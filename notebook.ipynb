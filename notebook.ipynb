{
 "cells": [
  {
   "metadata": {},
   "cell_type": "markdown",
   "source": [
    "# COS711 Assignment 2\n",
    "#### Lukas Anthonissen u21434345"
   ],
   "id": "2d868de69b3b0e93"
  },
  {
   "metadata": {},
   "cell_type": "markdown",
   "source": "## Important Settings for the Marker",
   "id": "ea98a5298a0a38c9"
  },
  {
   "metadata": {
    "ExecuteTime": {
     "end_time": "2024-10-03T08:49:27.847270Z",
     "start_time": "2024-10-03T08:49:27.844543Z"
    }
   },
   "cell_type": "code",
   "source": [
    "import random\n",
    "\n",
    "run_hyperparameter_optimization = True # Set to True to run the hyperparameter optimization or False to load the results from the CSV files. Note: running the hyperparameter optimization will take a long time.\n",
    "run_optimizers = True # Set to True to run the optimizer comparison or False to load the results from the CSV files. Note: running the optimizer comparison will take a long time.\n",
    "seed = 42"
   ],
   "id": "ad74028f32d25844",
   "outputs": [],
   "execution_count": 1
  },
  {
   "metadata": {},
   "cell_type": "markdown",
   "source": "## Imports",
   "id": "3a890cec402e7308"
  },
  {
   "metadata": {
    "ExecuteTime": {
     "end_time": "2024-10-03T08:49:30.113113Z",
     "start_time": "2024-10-03T08:49:27.895861Z"
    }
   },
   "cell_type": "code",
   "source": [
    "import pandas as pd\n",
    "import numpy as np\n",
    "import seaborn as sns\n",
    "from sklearn.preprocessing import OneHotEncoder\n",
    "from sklearn.impute import SimpleImputer\n",
    "from sklearn.preprocessing import StandardScaler\n",
    "from sklearn.model_selection import train_test_split\n",
    "import tensorflow as tf\n",
    "import matplotlib.pyplot as plt\n",
    "import torch\n",
    "from torch import nn\n",
    "from torch.utils.data import DataLoader\n",
    "from torchvision import datasets\n",
    "from torchvision.transforms import ToTensor\n",
    "\n",
    "random.seed(seed)"
   ],
   "id": "6d19088f4fc7f9b5",
   "outputs": [
    {
     "name": "stderr",
     "output_type": "stream",
     "text": [
      "2024-10-03 10:49:28.105552: I tensorflow/core/util/port.cc:153] oneDNN custom operations are on. You may see slightly different numerical results due to floating-point round-off errors from different computation orders. To turn them off, set the environment variable `TF_ENABLE_ONEDNN_OPTS=0`.\n",
      "2024-10-03 10:49:28.105955: I external/local_xla/xla/tsl/cuda/cudart_stub.cc:32] Could not find cuda drivers on your machine, GPU will not be used.\n",
      "2024-10-03 10:49:28.107775: I external/local_xla/xla/tsl/cuda/cudart_stub.cc:32] Could not find cuda drivers on your machine, GPU will not be used.\n",
      "2024-10-03 10:49:28.113207: E external/local_xla/xla/stream_executor/cuda/cuda_fft.cc:485] Unable to register cuFFT factory: Attempting to register factory for plugin cuFFT when one has already been registered\n",
      "2024-10-03 10:49:28.122077: E external/local_xla/xla/stream_executor/cuda/cuda_dnn.cc:8454] Unable to register cuDNN factory: Attempting to register factory for plugin cuDNN when one has already been registered\n",
      "2024-10-03 10:49:28.124492: E external/local_xla/xla/stream_executor/cuda/cuda_blas.cc:1452] Unable to register cuBLAS factory: Attempting to register factory for plugin cuBLAS when one has already been registered\n",
      "2024-10-03 10:49:28.130796: I tensorflow/core/platform/cpu_feature_guard.cc:210] This TensorFlow binary is optimized to use available CPU instructions in performance-critical operations.\n",
      "To enable the following instructions: AVX2 AVX_VNNI FMA, in other operations, rebuild TensorFlow with the appropriate compiler flags.\n",
      "2024-10-03 10:49:28.600376: W tensorflow/compiler/tf2tensorrt/utils/py_utils.cc:38] TF-TRT Warning: Could not find TensorRT\n"
     ]
    }
   ],
   "execution_count": 2
  },
  {
   "metadata": {},
   "cell_type": "markdown",
   "source": "## Import Data",
   "id": "243f5119e2b582c7"
  },
  {
   "metadata": {
    "ExecuteTime": {
     "end_time": "2024-10-03T08:49:30.133891Z",
     "start_time": "2024-10-03T08:49:30.113945Z"
    }
   },
   "cell_type": "code",
   "source": [
    "directory = \"data\"\n",
    "almonds = pd.read_csv(f'{directory}/Almond.csv')\n",
    "\n",
    "almonds.describe()"
   ],
   "id": "b4cde2b15c0f61b6",
   "outputs": [
    {
     "data": {
      "text/plain": [
       "        Unnamed: 0  Length (major axis)  Width (minor axis)  \\\n",
       "count  2803.000000          1946.000000         1861.000000   \n",
       "mean   1401.000000           290.609274          171.025915   \n",
       "std     809.300727            62.719433           29.916529   \n",
       "min       0.000000           151.335266           88.050529   \n",
       "25%     700.500000           245.966293          149.453659   \n",
       "50%    1401.000000           279.879883          170.168365   \n",
       "75%    2101.500000           330.508575          190.640427   \n",
       "max    2802.000000           515.352478          258.569794   \n",
       "\n",
       "       Thickness (depth)          Area    Perimeter    Roundness     Solidity  \\\n",
       "count        1799.000000   2803.000000  2803.000000  1946.000000  2803.000000   \n",
       "mean          109.705378  26511.117374   743.863770     0.470466     0.955828   \n",
       "std            18.940597  13782.561344   230.632076     0.118673     0.039596   \n",
       "min            59.494278   6037.000000   311.563489     0.173748     0.718772   \n",
       "25%            97.091682  16211.500000   571.730009     0.384810     0.944579   \n",
       "50%           110.280136  23440.500000   707.487369     0.472718     0.970422   \n",
       "75%           121.392773  33451.000000   878.896530     0.577553     0.981484   \n",
       "max           181.845200  89282.000000  1864.947387     0.697293     0.992889   \n",
       "\n",
       "       Compactness  Aspect Ratio  Eccentricity       Extent  \\\n",
       "count  2803.000000   1004.000000   1004.000000  2803.000000   \n",
       "mean      1.825233      1.753216      0.813114     0.724587   \n",
       "std       0.794058      0.206616      0.041312     0.047474   \n",
       "min       1.164469      1.400082      0.699897     0.454538   \n",
       "25%       1.357398      1.612490      0.784476     0.701673   \n",
       "50%       1.576412      1.705716      0.810120     0.733720   \n",
       "75%       1.965953      1.833339      0.838141     0.757551   \n",
       "max       9.660057      2.731251      0.930563     0.845813   \n",
       "\n",
       "       Convex hull(convex area)  \n",
       "count               2803.000000  \n",
       "mean               27696.218159  \n",
       "std                14237.347610  \n",
       "min                 6355.000000  \n",
       "25%                17088.500000  \n",
       "50%                24589.000000  \n",
       "75%                34863.250000  \n",
       "max                90642.500000  "
      ],
      "text/html": [
       "<div>\n",
       "<style scoped>\n",
       "    .dataframe tbody tr th:only-of-type {\n",
       "        vertical-align: middle;\n",
       "    }\n",
       "\n",
       "    .dataframe tbody tr th {\n",
       "        vertical-align: top;\n",
       "    }\n",
       "\n",
       "    .dataframe thead th {\n",
       "        text-align: right;\n",
       "    }\n",
       "</style>\n",
       "<table border=\"1\" class=\"dataframe\">\n",
       "  <thead>\n",
       "    <tr style=\"text-align: right;\">\n",
       "      <th></th>\n",
       "      <th>Unnamed: 0</th>\n",
       "      <th>Length (major axis)</th>\n",
       "      <th>Width (minor axis)</th>\n",
       "      <th>Thickness (depth)</th>\n",
       "      <th>Area</th>\n",
       "      <th>Perimeter</th>\n",
       "      <th>Roundness</th>\n",
       "      <th>Solidity</th>\n",
       "      <th>Compactness</th>\n",
       "      <th>Aspect Ratio</th>\n",
       "      <th>Eccentricity</th>\n",
       "      <th>Extent</th>\n",
       "      <th>Convex hull(convex area)</th>\n",
       "    </tr>\n",
       "  </thead>\n",
       "  <tbody>\n",
       "    <tr>\n",
       "      <th>count</th>\n",
       "      <td>2803.000000</td>\n",
       "      <td>1946.000000</td>\n",
       "      <td>1861.000000</td>\n",
       "      <td>1799.000000</td>\n",
       "      <td>2803.000000</td>\n",
       "      <td>2803.000000</td>\n",
       "      <td>1946.000000</td>\n",
       "      <td>2803.000000</td>\n",
       "      <td>2803.000000</td>\n",
       "      <td>1004.000000</td>\n",
       "      <td>1004.000000</td>\n",
       "      <td>2803.000000</td>\n",
       "      <td>2803.000000</td>\n",
       "    </tr>\n",
       "    <tr>\n",
       "      <th>mean</th>\n",
       "      <td>1401.000000</td>\n",
       "      <td>290.609274</td>\n",
       "      <td>171.025915</td>\n",
       "      <td>109.705378</td>\n",
       "      <td>26511.117374</td>\n",
       "      <td>743.863770</td>\n",
       "      <td>0.470466</td>\n",
       "      <td>0.955828</td>\n",
       "      <td>1.825233</td>\n",
       "      <td>1.753216</td>\n",
       "      <td>0.813114</td>\n",
       "      <td>0.724587</td>\n",
       "      <td>27696.218159</td>\n",
       "    </tr>\n",
       "    <tr>\n",
       "      <th>std</th>\n",
       "      <td>809.300727</td>\n",
       "      <td>62.719433</td>\n",
       "      <td>29.916529</td>\n",
       "      <td>18.940597</td>\n",
       "      <td>13782.561344</td>\n",
       "      <td>230.632076</td>\n",
       "      <td>0.118673</td>\n",
       "      <td>0.039596</td>\n",
       "      <td>0.794058</td>\n",
       "      <td>0.206616</td>\n",
       "      <td>0.041312</td>\n",
       "      <td>0.047474</td>\n",
       "      <td>14237.347610</td>\n",
       "    </tr>\n",
       "    <tr>\n",
       "      <th>min</th>\n",
       "      <td>0.000000</td>\n",
       "      <td>151.335266</td>\n",
       "      <td>88.050529</td>\n",
       "      <td>59.494278</td>\n",
       "      <td>6037.000000</td>\n",
       "      <td>311.563489</td>\n",
       "      <td>0.173748</td>\n",
       "      <td>0.718772</td>\n",
       "      <td>1.164469</td>\n",
       "      <td>1.400082</td>\n",
       "      <td>0.699897</td>\n",
       "      <td>0.454538</td>\n",
       "      <td>6355.000000</td>\n",
       "    </tr>\n",
       "    <tr>\n",
       "      <th>25%</th>\n",
       "      <td>700.500000</td>\n",
       "      <td>245.966293</td>\n",
       "      <td>149.453659</td>\n",
       "      <td>97.091682</td>\n",
       "      <td>16211.500000</td>\n",
       "      <td>571.730009</td>\n",
       "      <td>0.384810</td>\n",
       "      <td>0.944579</td>\n",
       "      <td>1.357398</td>\n",
       "      <td>1.612490</td>\n",
       "      <td>0.784476</td>\n",
       "      <td>0.701673</td>\n",
       "      <td>17088.500000</td>\n",
       "    </tr>\n",
       "    <tr>\n",
       "      <th>50%</th>\n",
       "      <td>1401.000000</td>\n",
       "      <td>279.879883</td>\n",
       "      <td>170.168365</td>\n",
       "      <td>110.280136</td>\n",
       "      <td>23440.500000</td>\n",
       "      <td>707.487369</td>\n",
       "      <td>0.472718</td>\n",
       "      <td>0.970422</td>\n",
       "      <td>1.576412</td>\n",
       "      <td>1.705716</td>\n",
       "      <td>0.810120</td>\n",
       "      <td>0.733720</td>\n",
       "      <td>24589.000000</td>\n",
       "    </tr>\n",
       "    <tr>\n",
       "      <th>75%</th>\n",
       "      <td>2101.500000</td>\n",
       "      <td>330.508575</td>\n",
       "      <td>190.640427</td>\n",
       "      <td>121.392773</td>\n",
       "      <td>33451.000000</td>\n",
       "      <td>878.896530</td>\n",
       "      <td>0.577553</td>\n",
       "      <td>0.981484</td>\n",
       "      <td>1.965953</td>\n",
       "      <td>1.833339</td>\n",
       "      <td>0.838141</td>\n",
       "      <td>0.757551</td>\n",
       "      <td>34863.250000</td>\n",
       "    </tr>\n",
       "    <tr>\n",
       "      <th>max</th>\n",
       "      <td>2802.000000</td>\n",
       "      <td>515.352478</td>\n",
       "      <td>258.569794</td>\n",
       "      <td>181.845200</td>\n",
       "      <td>89282.000000</td>\n",
       "      <td>1864.947387</td>\n",
       "      <td>0.697293</td>\n",
       "      <td>0.992889</td>\n",
       "      <td>9.660057</td>\n",
       "      <td>2.731251</td>\n",
       "      <td>0.930563</td>\n",
       "      <td>0.845813</td>\n",
       "      <td>90642.500000</td>\n",
       "    </tr>\n",
       "  </tbody>\n",
       "</table>\n",
       "</div>"
      ]
     },
     "execution_count": 3,
     "metadata": {},
     "output_type": "execute_result"
    }
   ],
   "execution_count": 3
  },
  {
   "metadata": {},
   "cell_type": "markdown",
   "source": [
    "## Data Analysis\n",
    "\n",
    "First we will analyze the data to find any inconsistencies or patterns that may be present in the data."
   ],
   "id": "96706e80724bb005"
  },
  {
   "metadata": {},
   "cell_type": "markdown",
   "source": [
    "### Type Distribution\n",
    "\n",
    "Here, we will investigate the distribution of the different types of almonds in the dataset to determine if there is a class imbalance."
   ],
   "id": "33bfba9bf4007468"
  },
  {
   "metadata": {
    "ExecuteTime": {
     "end_time": "2024-10-03T08:49:30.212324Z",
     "start_time": "2024-10-03T08:49:30.134388Z"
    }
   },
   "cell_type": "code",
   "source": [
    "f, ax = plt.subplots(figsize=(6, 6))\n",
    "\n",
    "sns.despine(f)\n",
    "sns.countplot(x='Type', data=almonds, palette='viridis')\n",
    "\n",
    "# Count occurrences of each class\n",
    "class_counts = almonds['Type'].value_counts()\n",
    "\n",
    "# Calculate percentages\n",
    "total_count = class_counts.sum()\n",
    "class_percentages = class_counts / total_count * 100\n",
    "\n",
    "for i, p in enumerate(ax.patches):\n",
    "    height = p.get_height()\n",
    "    ax.text(p.get_x() + p.get_width() / 2.,\n",
    "            height - 20,\n",
    "            f'{class_percentages[i]:.2f}%',\n",
    "            color='white',\n",
    "            va='top',\n",
    "            ha='center')"
   ],
   "id": "e15d3dcd757a8361",
   "outputs": [
    {
     "name": "stderr",
     "output_type": "stream",
     "text": [
      "/tmp/ipykernel_1871420/96229088.py:4: FutureWarning: \n",
      "\n",
      "Passing `palette` without assigning `hue` is deprecated and will be removed in v0.14.0. Assign the `x` variable to `hue` and set `legend=False` for the same effect.\n",
      "\n",
      "  sns.countplot(x='Type', data=almonds, palette='viridis')\n",
      "/tmp/ipykernel_1871420/96229088.py:17: FutureWarning: Series.__getitem__ treating keys as positions is deprecated. In a future version, integer keys will always be treated as labels (consistent with DataFrame behavior). To access a value by position, use `ser.iloc[pos]`\n",
      "  f'{class_percentages[i]:.2f}%',\n"
     ]
    },
    {
     "data": {
      "text/plain": [
       "<Figure size 600x600 with 1 Axes>"
      ],
      "image/png": "[encoded data removed]"
     },
     "metadata": {},
     "output_type": "display_data"
    }
   ],
   "execution_count": 4
  },
  {
   "metadata": {},
   "cell_type": "markdown",
   "source": [
    "### Null Values\n",
    "\n",
    "Here, we will investigate the percentage of null values in each column to determine if any columns should be dropped due to a high percentage of null values or if the null values should be imputed."
   ],
   "id": "50cd94f84e45b76b"
  },
  {
   "metadata": {
    "ExecuteTime": {
     "end_time": "2024-10-03T08:49:30.297362Z",
     "start_time": "2024-10-03T08:49:30.213124Z"
    }
   },
   "cell_type": "code",
   "source": [
    "null_percentages = almonds.isnull().mean() * 100\n",
    "null_percentages = null_percentages[null_percentages > 0]\n",
    "\n",
    "f, ax = plt.subplots(figsize=(6, 6))\n",
    "\n",
    "sns.despine(f)\n",
    "sns.barplot(x=null_percentages.index, y=null_percentages, palette='viridis')\n",
    "plt.xticks(rotation=45)\n",
    "plt.xlabel(\"Columns\")\n",
    "plt.ylabel(\"Percentage of Null Values\")\n",
    "for i, p in enumerate(ax.patches):\n",
    "    height = p.get_height()\n",
    "    ax.text(p.get_x() + p.get_width() / 2.,\n",
    "            height - 5,\n",
    "            f'{null_percentages[i]:.2f}%',\n",
    "            color='white',\n",
    "            va='top',\n",
    "            ha='center')"
   ],
   "id": "17ed9b819508a444",
   "outputs": [
    {
     "name": "stderr",
     "output_type": "stream",
     "text": [
      "/tmp/ipykernel_1871420/2464153978.py:7: FutureWarning: \n",
      "\n",
      "Passing `palette` without assigning `hue` is deprecated and will be removed in v0.14.0. Assign the `x` variable to `hue` and set `legend=False` for the same effect.\n",
      "\n",
      "  sns.barplot(x=null_percentages.index, y=null_percentages, palette='viridis')\n",
      "/tmp/ipykernel_1871420/2464153978.py:15: FutureWarning: Series.__getitem__ treating keys as positions is deprecated. In a future version, integer keys will always be treated as labels (consistent with DataFrame behavior). To access a value by position, use `ser.iloc[pos]`\n",
      "  f'{null_percentages[i]:.2f}%',\n"
     ]
    },
    {
     "data": {
      "text/plain": [
       "<Figure size 600x600 with 1 Axes>"
      ],
      "image/png": "[encoded data removed]"
     },
     "metadata": {},
     "output_type": "display_data"
    }
   ],
   "execution_count": 5
  },
  {
   "metadata": {},
   "cell_type": "markdown",
   "source": "## Data Processing",
   "id": "67e1eacd95f793a6"
  },
  {
   "metadata": {},
   "cell_type": "markdown",
   "source": [
    "### Processing and analysis before splitting\n",
    "\n",
    "Here we will process the data before splitting it into training and testing sets."
   ],
   "id": "8e065c42957bf4d4"
  },
  {
   "metadata": {},
   "cell_type": "markdown",
   "source": "#### One Hot Encoding",
   "id": "5bbe578b004c34bf"
  },
  {
   "metadata": {
    "ExecuteTime": {
     "end_time": "2024-10-03T08:49:30.301964Z",
     "start_time": "2024-10-03T08:49:30.297958Z"
    }
   },
   "cell_type": "code",
   "source": [
    "# Encode output field \"Type\"\n",
    "encoder = OneHotEncoder(sparse_output=False)\n",
    "encoded = encoder.fit_transform(almonds[['Type']])\n",
    "encoded = pd.DataFrame(encoded, columns=encoder.get_feature_names_out(['Type']))\n",
    "almonds = pd.concat([almonds, encoded], axis=1)\n",
    "\n",
    "# Drop original field\n",
    "almonds = almonds.drop(columns=['Type'])"
   ],
   "id": "e491b322d5faf421",
   "outputs": [],
   "execution_count": 6
  },
  {
   "metadata": {},
   "cell_type": "markdown",
   "source": [
    "#### Drop Columns with more than 50% null values\n",
    "\n",
    "Any columns with more than 50% null values will be dropped due to the high percentage of missing data that could skew the results."
   ],
   "id": "7ad0129343f58024"
  },
  {
   "metadata": {
    "ExecuteTime": {
     "end_time": "2024-10-03T08:49:30.305963Z",
     "start_time": "2024-10-03T08:49:30.302641Z"
    }
   },
   "cell_type": "code",
   "source": [
    "null_percentages = almonds.isnull().mean() * 100\n",
    "columns_to_drop = null_percentages[null_percentages > 50].index\n",
    "almonds = almonds.drop(columns=columns_to_drop)"
   ],
   "id": "324a08d90c910f51",
   "outputs": [],
   "execution_count": 7
  },
  {
   "metadata": {},
   "cell_type": "markdown",
   "source": [
    "### Splitting\n",
    "\n",
    "Here we will split the data into training and testing sets to allow the model to be evaluated on unseen data.\n",
    "\n",
    "The split will be 80% training and 20% testing.\n",
    "\n",
    "We will use a random state of 42 to ensure reproducibility."
   ],
   "id": "bb6a2da14d525df0"
  },
  {
   "metadata": {
    "ExecuteTime": {
     "end_time": "2024-10-03T08:49:30.317423Z",
     "start_time": "2024-10-03T08:49:30.306578Z"
    }
   },
   "cell_type": "code",
   "source": [
    "x = almonds.iloc[:, :-3]\n",
    "y = almonds.iloc[:, -3:]\n",
    "\n",
    "x_train, x_test, y_train, y_test = train_test_split(x, y, test_size=0.2, random_state=42)\n",
    "\n",
    "almonds.describe()\n",
    "\n",
    "x_train = pd.DataFrame(x_train, columns=almonds.columns[:-3])\n",
    "x_test = pd.DataFrame(x_test, columns=almonds.columns[:-3])\n",
    "y_train = pd.DataFrame(y_train, columns=almonds.columns[-3:])\n",
    "y_test = pd.DataFrame(y_test, columns=almonds.columns[-3:])"
   ],
   "id": "4e0ef7723f4b2adf",
   "outputs": [],
   "execution_count": 8
  },
  {
   "metadata": {},
   "cell_type": "markdown",
   "source": [
    "### Processing after splitting\n",
    "\n",
    "Here we will process the data after splitting it into training and testing sets to ensure that the data is standardized and imputed from the training set only.\n",
    "\n",
    "This is to prevent data leakage from the testing set into the training set to reproduce real-world scenarios where the model is trained on historical data and tested on unseen data."
   ],
   "id": "3d6d0559b8e2e43e"
  },
  {
   "metadata": {},
   "cell_type": "markdown",
   "source": [
    "#### Impute Missing Values\n",
    "\n",
    "Here we will impute missing values in the data using the mean of the column."
   ],
   "id": "3bb8895b043e6ef0"
  },
  {
   "metadata": {
    "ExecuteTime": {
     "end_time": "2024-10-03T08:49:30.324516Z",
     "start_time": "2024-10-03T08:49:30.318096Z"
    }
   },
   "cell_type": "code",
   "source": [
    "# Replace null values with mean\n",
    "\n",
    "imputer = SimpleImputer(strategy='mean')\n",
    "numeric_cols = x_train.select_dtypes(include=['int64', 'float64']).columns\n",
    "x_train[numeric_cols] = imputer.fit_transform(x_train[numeric_cols])\n",
    "x_test[numeric_cols] = imputer.transform(x_test[numeric_cols])"
   ],
   "id": "4912410d2fcc9450",
   "outputs": [],
   "execution_count": 9
  },
  {
   "metadata": {},
   "cell_type": "markdown",
   "source": [
    "#### Standardize Data\n",
    "\n",
    "We will standardize the data to ensure that the data is centered around 0 with a standard deviation of 1."
   ],
   "id": "980e94c3bfcd4742"
  },
  {
   "metadata": {
    "ExecuteTime": {
     "end_time": "2024-10-03T08:49:30.329226Z",
     "start_time": "2024-10-03T08:49:30.325038Z"
    }
   },
   "cell_type": "code",
   "source": [
    "scaler = StandardScaler()\n",
    "x_train[numeric_cols] = scaler.fit_transform(x_train[numeric_cols])\n",
    "x_test[numeric_cols] = scaler.transform(x_test[numeric_cols])"
   ],
   "id": "e63290a4d276103",
   "outputs": [],
   "execution_count": 10
  },
  {
   "metadata": {},
   "cell_type": "markdown",
   "source": [
    "### Convert Data to PyTorch DataSet\n",
    "\n",
    "This is a necessary technical step to convert the data into a format that PyTorch can use to train the model."
   ],
   "id": "bfac050b6b2e122f"
  },
  {
   "metadata": {
    "ExecuteTime": {
     "end_time": "2024-10-03T08:49:30.333097Z",
     "start_time": "2024-10-03T08:49:30.330119Z"
    }
   },
   "cell_type": "code",
   "source": [
    "from torch.utils.data import Dataset\n",
    "\n",
    "X_train = torch.tensor(x_train.to_numpy(), dtype=torch.float32)\n",
    "y_train = torch.tensor(y_train.to_numpy(), dtype=torch.float32)\n",
    "X_test = torch.tensor(x_test.to_numpy(), dtype=torch.float32)\n",
    "y_test = torch.tensor(y_test.to_numpy(), dtype=torch.float32)\n",
    "\n",
    "class CustomDataset(Dataset):\n",
    "    def __init__(self, X_data, y_data):\n",
    "        self.X_data = X_data\n",
    "        self.y_data = y_data\n",
    "\n",
    "    def __len__(self):\n",
    "        return len(self.X_data)\n",
    "\n",
    "    def __getitem__(self, index):\n",
    "        return self.X_data[index], self.y_data[index]\n",
    "\n",
    "train_dataset = CustomDataset(X_train, y_train)\n",
    "test_dataset = CustomDataset(X_test, y_test)\n",
    "\n",
    "train_loader = DataLoader(dataset=train_dataset, batch_size=32, shuffle=True)\n",
    "test_loader = DataLoader(dataset=test_dataset, batch_size=1, shuffle=False)"
   ],
   "id": "6ffb13bbd2f157c",
   "outputs": [],
   "execution_count": 11
  },
  {
   "metadata": {},
   "cell_type": "markdown",
   "source": [
    "## The Neural Network Model\n",
    "\n",
    "Here we will define the neural network class that will be used to classify the data."
   ],
   "id": "83368d9d137e97e8"
  },
  {
   "metadata": {
    "ExecuteTime": {
     "end_time": "2024-10-03T08:49:30.339198Z",
     "start_time": "2024-10-03T08:49:30.333535Z"
    }
   },
   "cell_type": "code",
   "source": [
    "from typing import Optional\n",
    "\n",
    "import torch\n",
    "from torch import nn\n",
    "from torch.utils.data import DataLoader\n",
    "\n",
    "\n",
    "class NeuralNetwork(nn.Module):\n",
    "    def __init__(self, sequential_layers: nn.Sequential):\n",
    "        super(NeuralNetwork, self).__init__()\n",
    "        self.flatten = nn.Flatten()\n",
    "\n",
    "        self.linear_stack = sequential_layers\n",
    "\n",
    "    def forward(self, x):\n",
    "        logits = self.linear_stack(x)\n",
    "        return logits\n",
    "\n",
    "    @staticmethod\n",
    "    def _accuracy(outputs, target):\n",
    "        max_value = torch.max(outputs).item()\n",
    "        outputs = torch.where(torch.tensor(outputs == max_value), torch.tensor([1]), torch.tensor([0]))\n",
    "\n",
    "        if False not in torch.eq(outputs, target):\n",
    "            return 1\n",
    "        return 0\n",
    "\n",
    "    def fit(\n",
    "            self,\n",
    "            training_loader: DataLoader,\n",
    "            epochs: int,\n",
    "            loss_fn,\n",
    "            optimizer,\n",
    "            validation_set: Optional[DataLoader] = None,\n",
    "            verbose: int = 2\n",
    "    ):\n",
    "        history = {\n",
    "            \"epoch\": [],\n",
    "            \"train_loss\": [],\n",
    "            \"val_loss\": []\n",
    "        }\n",
    "\n",
    "        for epoch in range(1, epochs + 1):\n",
    "            self.train()\n",
    "            if verbose > 0:\n",
    "                print(f\"-------------------------------\\n\"\n",
    "                      f\"Epoch {epoch}\\n\"\n",
    "                      f\"-------------------------------\")\n",
    "\n",
    "            training_loss: float = 0.0\n",
    "\n",
    "            for batch, tensor in enumerate(training_loader):\n",
    "                data, target = tensor\n",
    "\n",
    "                optimizer.zero_grad()\n",
    "                outputs = self(data)\n",
    "                loss = loss_fn(outputs, target)\n",
    "                loss.backward()\n",
    "                optimizer.step()\n",
    "                training_loss += loss.item()\n",
    "\n",
    "            if verbose > 1:\n",
    "                print(f\"Loss: {training_loss / len(training_loader)}\")\n",
    "            history[\"epoch\"].append(epoch)\n",
    "            history[\"train_loss\"].append(training_loss / len(training_loader))\n",
    "\n",
    "            if validation_set is not None:\n",
    "                val_loss = 0\n",
    "                correct = 0\n",
    "                self.eval()\n",
    "                with torch.no_grad():\n",
    "                    for data, target in validation_set:\n",
    "                        outputs = self(data)\n",
    "                        val_loss += loss_fn(outputs, target).item()\n",
    "\n",
    "                        correct += self._accuracy(outputs, target)\n",
    "\n",
    "                    if verbose > 0:\n",
    "                        print(f\"Accuracy: {correct / len(validation_set)}\")\n",
    "                    val_loss /= len(validation_set)\n",
    "                    history[\"val_loss\"].append(val_loss)\n",
    "\n",
    "        return history\n",
    "\n",
    "    def evaluate(\n",
    "            self,\n",
    "            test_loader: DataLoader,\n",
    "            loss_fn,\n",
    "            verbose: int = 1\n",
    "    ):\n",
    "        test_loss = 0\n",
    "        correct = 0\n",
    "\n",
    "        self.eval()\n",
    "\n",
    "        with torch.no_grad():\n",
    "            for data, target in test_loader:\n",
    "                outputs = self(data)\n",
    "                test_loss += loss_fn(outputs, target).item()\n",
    "                correct += self._accuracy(outputs, target)\n",
    "\n",
    "        test_loss /= len(test_loader)\n",
    "        accuracy = correct / len(test_loader)\n",
    "\n",
    "        if verbose > 0:\n",
    "            print(f\"Test Error: \\n Accuracy: {(100 * accuracy):>0.1f}%, Avg loss: {test_loss:>8f} \\n\")\n",
    "        return accuracy, test_loss"
   ],
   "id": "54340f275f85275b",
   "outputs": [],
   "execution_count": 12
  },
  {
   "metadata": {},
   "cell_type": "markdown",
   "source": [
    "## Hybrid Optimizer\n",
    "\n",
    "Here we will define a custom optimizer that averages the gradients of multiple optimizers to improve the performance of the model."
   ],
   "id": "b6870b7dff48276a"
  },
  {
   "metadata": {
    "ExecuteTime": {
     "end_time": "2024-10-03T08:49:30.344360Z",
     "start_time": "2024-10-03T08:49:30.339683Z"
    }
   },
   "cell_type": "code",
   "source": [
    "import torch\n",
    "from torch.optim import Optimizer\n",
    "\n",
    "\n",
    "class AveragedOptimizer(Optimizer):\n",
    "    def __init__(self, optimizers):\n",
    "        # optimizers: list of optimizers (e.g., Adam, SGD)\n",
    "        self.optimizers = optimizers\n",
    "\n",
    "        # Ensure that all optimizers are optimizing the same parameters\n",
    "        param_groups = optimizers[0].param_groups\n",
    "\n",
    "        # Initialize parent class with param_groups\n",
    "        super(AveragedOptimizer, self).__init__(param_groups, {})\n",
    "\n",
    "    def zero_grad(self, set_to_none: bool = True):\n",
    "        # Call zero_grad() for each optimizer to clear gradients\n",
    "        for optimizer in self.optimizers:\n",
    "            optimizer.zero_grad()\n",
    "\n",
    "    def step(self, closure=None):\n",
    "        # Store parameter updates from each optimizer\n",
    "        updates = []\n",
    "\n",
    "        # Perform the step for each optimizer (this updates their internal states)\n",
    "        for optimizer in self.optimizers:\n",
    "            optimizer.step(closure=closure)\n",
    "            # Capture the parameter updates after each optimizer's step\n",
    "            param_updates = []\n",
    "            for group in optimizer.param_groups:\n",
    "                for param in group['params']:\n",
    "                    if param.grad is None:\n",
    "                        continue\n",
    "                    # Append the parameter's data after the optimizer's step\n",
    "                    param_updates.append(param.data.clone())\n",
    "            updates.append(param_updates)\n",
    "\n",
    "        # Now average the parameter updates and apply them to the shared model parameters\n",
    "        with torch.no_grad():\n",
    "            for i, group in enumerate(self.param_groups):\n",
    "                for j, param in enumerate(group['params']):\n",
    "                    if param.grad is None:\n",
    "                        continue\n",
    "\n",
    "                    # Compute the average update across all optimizers\n",
    "                    avg_update = torch.zeros_like(param.data)\n",
    "                    for update in updates:\n",
    "                        avg_update += update[j] - param.data\n",
    "\n",
    "                    # Apply the average update\n",
    "                    avg_update /= len(self.optimizers)\n",
    "                    param.data.add_(avg_update)\n",
    "\n"
   ],
   "id": "a59c7b54d00b91d3",
   "outputs": [],
   "execution_count": 13
  },
  {
   "metadata": {},
   "cell_type": "markdown",
   "source": [
    "## Hyperparameter Optimization\n",
    "\n",
    "We will now optimise the size of the hidden layer and the dropout rate to determine the best hyperparameters for the model.\n",
    "\n",
    "The base hyperparameters are as follows:\n",
    "- Activation Function: ReLU\n",
    "- Number of Hidden Layers: 1\n",
    "- Optimizer: Adam\n",
    "- Learning Rate: 0.001\n",
    "- Epochs: 100\n",
    "- Batch Size: 8\n",
    "- Loss Function: Cross Entropy Loss\n",
    "\n",
    "The hyperparameters that will be optimized are:\n",
    "- **Hidden Layer Size** in the range [16, 32, 64, 128, 256, 512]\n",
    "- **Dropout Rate** in the range [0, 0.1, 0.2, 0.3, 0.4, 0.5]\n"
   ],
   "id": "39455bdf5337e37d"
  },
  {
   "metadata": {},
   "cell_type": "markdown",
   "source": "Here we define a method to build a model from the hyperparameters, train the model and return the history and testing accuracy of the model.",
   "id": "1461e10923cf4e52"
  },
  {
   "metadata": {
    "ExecuteTime": {
     "end_time": "2024-10-03T08:49:30.349580Z",
     "start_time": "2024-10-03T08:49:30.344866Z"
    }
   },
   "cell_type": "code",
   "source": [
    "from collections import OrderedDict\n",
    "\n",
    "def build_and_run_model(\n",
    "        hidden_layer_size: int = 128,\n",
    "        learning_rate: float = 0.001,\n",
    "        dropout: float = 0.1,\n",
    "        verbose: int = 0,\n",
    "        activation: str = 'relu',\n",
    "        num_layers: int = 1,\n",
    "        optimizer: str = 'adam'\n",
    "):\n",
    "    if activation == 'relu':\n",
    "        activation = nn.ReLU()\n",
    "    elif activation == 'tanh':\n",
    "        activation = nn.Tanh()\n",
    "    elif activation == 'sigmoid':\n",
    "        activation = nn.Sigmoid()\n",
    "    elif activation == 'leaky_relu':\n",
    "        activation = nn.LeakyReLU()\n",
    "    else:\n",
    "        activation = nn.ReLU()\n",
    "\n",
    "    layers = OrderedDict([\n",
    "        ('input', nn.Linear(11, hidden_layer_size)),\n",
    "        ('activation', activation),\n",
    "        ('dropout', nn.Dropout(dropout)),\n",
    "    ])\n",
    "\n",
    "    for i in range(num_layers - 1):\n",
    "        layers[f'hidden_{i}'] = nn.Linear(hidden_layer_size, hidden_layer_size)\n",
    "        layers[f'activation_{i}'] = activation\n",
    "        layers[f'dropout_{i}'] = nn.Dropout(dropout)\n",
    "\n",
    "    layers['output'] = nn.Linear(hidden_layer_size, 3)\n",
    "\n",
    "    # Initialize the model\n",
    "    model = NeuralNetwork(\n",
    "        nn.Sequential(\n",
    "            layers\n",
    "        )\n",
    "    )\n",
    "\n",
    "    if optimizer == 'adam':\n",
    "        optimizer = torch.optim.Adam(model.parameters(), lr=learning_rate)\n",
    "    elif optimizer == 'sgd':\n",
    "        optimizer = torch.optim.SGD(model.parameters(), lr=learning_rate)\n",
    "    elif optimizer == 'rprop':\n",
    "        optimizer = torch.optim.Rprop(model.parameters(), lr=learning_rate)\n",
    "    elif optimizer == 'hybrid':\n",
    "        optimizer = AveragedOptimizer(\n",
    "            [\n",
    "                torch.optim.Adam(model.parameters(), lr=learning_rate),\n",
    "                torch.optim.SGD(model.parameters(), lr=learning_rate),\n",
    "                torch.optim.Rprop(model.parameters(), lr=learning_rate)\n",
    "            ]\n",
    "        )\n",
    "    else:\n",
    "        optimizer = torch.optim.Adam(model.parameters(), lr=learning_rate)\n",
    "\n",
    "    optimizer.zero_grad()\n",
    "    loss_fn = nn.CrossEntropyLoss()\n",
    "\n",
    "    history = model.fit(\n",
    "        training_loader=train_loader,\n",
    "        validation_set=test_loader,\n",
    "        optimizer=optimizer,\n",
    "        loss_fn=loss_fn,\n",
    "        epochs=100,\n",
    "        verbose=verbose\n",
    "    )\n",
    "\n",
    "    accuracy, loss = model.evaluate(\n",
    "        test_loader,\n",
    "        loss_fn,\n",
    "        verbose=verbose\n",
    "    )\n",
    "\n",
    "    return history, accuracy"
   ],
   "id": "f0b43a3aed965778",
   "outputs": [],
   "execution_count": 14
  },
  {
   "metadata": {},
   "cell_type": "markdown",
   "source": "Here we will run the hyperparameter optimization for the hidden layer size and dropout rate.",
   "id": "5641502f270362ef"
  },
  {
   "metadata": {
    "ExecuteTime": {
     "end_time": "2024-10-03T10:26:13.538949Z",
     "start_time": "2024-10-03T08:49:30.350164Z"
    }
   },
   "cell_type": "code",
   "source": [
    "if run_hyperparameter_optimization:\n",
    "    size_range = [16, 32, 64, 128, 256, 512]\n",
    "    dropout_range = [0, 0.1, 0.2, 0.3, 0.4, 0.5]\n",
    "    \n",
    "    hyperparameter_optimisation_accuracies = []\n",
    "    for size in size_range:\n",
    "        for dropout in dropout_range:\n",
    "            local_losses = []\n",
    "            local_accuracies = []\n",
    "            total_runs = 20\n",
    "            for _ in range(total_runs):\n",
    "                history, accuracy = build_and_run_model(hidden_layer_size=size, dropout=dropout)\n",
    "                local_losses.append(history['val_loss'][-1])\n",
    "                local_accuracies.append(accuracy)\n",
    "                \n",
    "            avg_accuracy = np.average(local_accuracies)\n",
    "            std_accuracy = np.std(local_accuracies)\n",
    "            avg_loss = np.average(local_losses)\n",
    "            std_loss = np.std(local_losses)\n",
    "\n",
    "            hyperparameter_optimisation_accuracies.append({\n",
    "                'size': size,\n",
    "                'dropout': dropout,\n",
    "                'accuracy': avg_accuracy,\n",
    "                'std_accuracy': std_accuracy,\n",
    "            })\n",
    "            \n",
    "            print(f\"Size: {size}, Dropout Rate: {dropout}, Accuracy: {avg_accuracy}\")\n",
    "\n",
    "    hyperparameter_optimisation_accuracies = pd.DataFrame(hyperparameter_optimisation_accuracies, columns=['size', 'dropout', 'accuracy', 'std_accuracy'])\n",
    "else:\n",
    "    hyperparameter_optimisation_accuracies = pd.read_csv('accuracies_size_dropout.csv')\n"
   ],
   "id": "545440046ced2963",
   "outputs": [
    {
     "name": "stderr",
     "output_type": "stream",
     "text": [
      "/tmp/ipykernel_1871420/3207387759.py:22: UserWarning: To copy construct from a tensor, it is recommended to use sourceTensor.clone().detach() or sourceTensor.clone().detach().requires_grad_(True), rather than torch.tensor(sourceTensor).\n",
      "  outputs = torch.where(torch.tensor(outputs == max_value), torch.tensor([1]), torch.tensor([0]))\n"
     ]
    },
    {
     "name": "stdout",
     "output_type": "stream",
     "text": [
      "Size: 16, Dropout Rate: 0, Accuracy: 0.9459893048128342\n",
      "Size: 16, Dropout Rate: 0.1, Accuracy: 0.9340463458110516\n",
      "Size: 16, Dropout Rate: 0.2, Accuracy: 0.9257575757575758\n",
      "Size: 16, Dropout Rate: 0.3, Accuracy: 0.9098930481283423\n",
      "Size: 16, Dropout Rate: 0.4, Accuracy: 0.9001782531194296\n",
      "Size: 16, Dropout Rate: 0.5, Accuracy: 0.8657754010695188\n",
      "Size: 32, Dropout Rate: 0, Accuracy: 0.9634581105169341\n",
      "Size: 32, Dropout Rate: 0.1, Accuracy: 0.9517825311942959\n",
      "Size: 32, Dropout Rate: 0.2, Accuracy: 0.9478609625668449\n",
      "Size: 32, Dropout Rate: 0.3, Accuracy: 0.9409982174688057\n",
      "Size: 32, Dropout Rate: 0.4, Accuracy: 0.9371657754010695\n",
      "Size: 32, Dropout Rate: 0.5, Accuracy: 0.9247771836007128\n",
      "Size: 64, Dropout Rate: 0, Accuracy: 0.972638146167558\n",
      "Size: 64, Dropout Rate: 0.1, Accuracy: 0.9662210338680929\n",
      "Size: 64, Dropout Rate: 0.2, Accuracy: 0.9598039215686274\n",
      "Size: 64, Dropout Rate: 0.3, Accuracy: 0.9538324420677361\n",
      "Size: 64, Dropout Rate: 0.4, Accuracy: 0.9516934046345812\n",
      "Size: 64, Dropout Rate: 0.5, Accuracy: 0.9449197860962565\n",
      "Size: 128, Dropout Rate: 0, Accuracy: 0.9813725490196079\n",
      "Size: 128, Dropout Rate: 0.1, Accuracy: 0.9730837789661321\n",
      "Size: 128, Dropout Rate: 0.2, Accuracy: 0.9729946524064171\n",
      "Size: 128, Dropout Rate: 0.3, Accuracy: 0.9697860962566847\n",
      "Size: 128, Dropout Rate: 0.4, Accuracy: 0.9666666666666666\n",
      "Size: 128, Dropout Rate: 0.5, Accuracy: 0.9614081996434937\n",
      "Size: 256, Dropout Rate: 0, Accuracy: 0.9844028520499106\n",
      "Size: 256, Dropout Rate: 0.1, Accuracy: 0.9832442067736183\n",
      "Size: 256, Dropout Rate: 0.2, Accuracy: 0.9793226381461677\n",
      "Size: 256, Dropout Rate: 0.3, Accuracy: 0.9778074866310161\n",
      "Size: 256, Dropout Rate: 0.4, Accuracy: 0.9748663101604279\n",
      "Size: 256, Dropout Rate: 0.5, Accuracy: 0.9716577540106952\n",
      "Size: 512, Dropout Rate: 0, Accuracy: 0.9843137254901958\n",
      "Size: 512, Dropout Rate: 0.1, Accuracy: 0.9854723707664883\n",
      "Size: 512, Dropout Rate: 0.2, Accuracy: 0.9844919786096256\n",
      "Size: 512, Dropout Rate: 0.3, Accuracy: 0.9836007130124778\n",
      "Size: 512, Dropout Rate: 0.4, Accuracy: 0.9836007130124778\n",
      "Size: 512, Dropout Rate: 0.5, Accuracy: 0.9809269162210338\n"
     ]
    }
   ],
   "execution_count": 15
  },
  {
   "metadata": {},
   "cell_type": "markdown",
   "source": "Here we will plot the results of the hyperparameter optimization in a heatmap to determine the best hyperparameters.",
   "id": "5052a2e99e14d30c"
  },
  {
   "metadata": {
    "ExecuteTime": {
     "end_time": "2024-10-03T10:26:13.674226Z",
     "start_time": "2024-10-03T10:26:13.539694Z"
    }
   },
   "cell_type": "code",
   "source": [
    "pivotted_hyperparameter_optimisation_accuracies = hyperparameter_optimisation_accuracies.pivot(\n",
    "    index='size',\n",
    "    columns='dropout',\n",
    "    values='accuracy'\n",
    ")\n",
    "\n",
    "sns.heatmap(pivotted_hyperparameter_optimisation_accuracies, annot=True)"
   ],
   "id": "88c67a16e760d896",
   "outputs": [
    {
     "data": {
      "text/plain": [
       "<Axes: xlabel='dropout', ylabel='size'>"
      ]
     },
     "execution_count": 16,
     "metadata": {},
     "output_type": "execute_result"
    },
    {
     "data": {
      "text/plain": [
       "<Figure size 640x480 with 2 Axes>"
      ],
      "image/png": "[encoded data removed]"
     },
     "metadata": {},
     "output_type": "display_data"
    }
   ],
   "execution_count": 16
  },
  {
   "metadata": {},
   "cell_type": "markdown",
   "source": [
    "## Optimizer Comparison\n",
    "\n",
    "Here we will compare the performance of different optimizers on the dataset to determine which optimizer performs the best.\n",
    "\n",
    "The optimizers that will be compared are:\n",
    "- Adam\n",
    "- SGD\n",
    "- Rprop\n",
    "- Hybrid (Averaged Optimizer)\n",
    "\n",
    "The hyperparameters that will be used are:\n",
    "- Hidden Layer Size: 128\n",
    "- Dropout Rate: 0.1\n",
    "- Activation Function: ReLU\n",
    "- Number of Hidden Layers: 1\n",
    "- Learning Rate: 0.001\n",
    "- Epochs: 100\n",
    "- Batch Size: 8\n",
    "- Loss Function: Cross Entropy Loss\n",
    "- Optimizer: Optimizer to be compared\n"
   ],
   "id": "9ca1f6a5c1d40e46"
  },
  {
   "metadata": {
    "ExecuteTime": {
     "end_time": "2024-10-03T10:48:04.425443Z",
     "start_time": "2024-10-03T10:26:13.675302Z"
    }
   },
   "cell_type": "code",
   "source": [
    "if run_optimizers:\n",
    "    optimizers = ['adam', 'sgd', 'rprop', 'hybrid']\n",
    "    \n",
    "    optimiser_comparison_accuracies = []\n",
    "    for optimizer in optimizers:\n",
    "        local_losses = []\n",
    "        local_accuracies = []\n",
    "        total_runs = 40\n",
    "        for _ in range(total_runs):\n",
    "            history, accuracy = build_and_run_model(\n",
    "                hidden_layer_size=128,\n",
    "                dropout=0.1,\n",
    "                optimizer=optimizer\n",
    "            )\n",
    "            local_losses.append(history['val_loss'][-1])\n",
    "            local_accuracies.append(accuracy)\n",
    "    \n",
    "        avg_accuracy = np.average(local_accuracies)\n",
    "        std_accuracy = np.std(local_accuracies)\n",
    "        avg_loss = np.average(local_losses)\n",
    "        std_loss = np.std(local_losses)\n",
    "\n",
    "        optimiser_comparison_accuracies.append({\n",
    "            'optimizer': optimizer,\n",
    "            'accuracy': avg_accuracy,\n",
    "            'std_accuracy': std_accuracy,\n",
    "        })\n",
    "    \n",
    "        print(f\"Optimizer: {optimizer}, Accuracy: {avg_accuracy}, Std: {std_accuracy}\")\n",
    "\n",
    "    optimiser_comparison_accuracies = pd.DataFrame(optimiser_comparison_accuracies, columns=['optimizer', 'accuracy', 'std_accuracy'])\n",
    "else:\n",
    "    optimiser_comparison_accuracies = pd.read_csv('accuracies_optimizers.csv')"
   ],
   "id": "3ca0ccfb284f884e",
   "outputs": [
    {
     "name": "stderr",
     "output_type": "stream",
     "text": [
      "/tmp/ipykernel_1871420/3207387759.py:22: UserWarning: To copy construct from a tensor, it is recommended to use sourceTensor.clone().detach() or sourceTensor.clone().detach().requires_grad_(True), rather than torch.tensor(sourceTensor).\n",
      "  outputs = torch.where(torch.tensor(outputs == max_value), torch.tensor([1]), torch.tensor([0]))\n"
     ]
    },
    {
     "name": "stdout",
     "output_type": "stream",
     "text": [
      "Optimizer: adam, Accuracy: 0.9745543672014261, Std: 0.0032865230066831228\n",
      "Optimizer: sgd, Accuracy: 0.7416666666666666, Std: 0.008515085467580858\n",
      "Optimizer: rprop, Accuracy: 0.7886363636363637, Std: 0.017847078955819398\n",
      "Optimizer: hybrid, Accuracy: 0.9845811051693405, Std: 0.0036650419242338908\n"
     ]
    }
   ],
   "execution_count": 17
  },
  {
   "metadata": {},
   "cell_type": "markdown",
   "source": "Here we will plot the results of the optimizer comparison in a histogram to determine the best optimizer.",
   "id": "350fc6577ed40ec3"
  },
  {
   "metadata": {
    "ExecuteTime": {
     "end_time": "2024-10-03T10:48:04.505294Z",
     "start_time": "2024-10-03T10:48:04.426141Z"
    }
   },
   "cell_type": "code",
   "source": [
    "# Plot the results in a histogram\n",
    "\n",
    "f, ax = plt.subplots(figsize=(6, 6))\n",
    "\n",
    "sns.despine(f)\n",
    "sns.barplot(x='optimizer', y='accuracy', data=optimiser_comparison_accuracies, palette='viridis')\n",
    "\n",
    "for i, p in enumerate(ax.patches):\n",
    "    height = p.get_height()\n",
    "    ax.text(p.get_x() + p.get_width() / 2.,\n",
    "            height - 0.05,\n",
    "            f'{optimiser_comparison_accuracies[\"accuracy\"][i]:.2f}',\n",
    "            color='white',\n",
    "            va='top',\n",
    "            ha='center')\n",
    "    \n",
    "plt.xlabel(\"Optimizer\")\n",
    "plt.ylabel(\"Accuracy\")\n",
    "plt.title(\"Accuracy of Different Optimizers\")\n",
    "plt.show()"
   ],
   "id": "45a396e726d070d3",
   "outputs": [
    {
     "name": "stderr",
     "output_type": "stream",
     "text": [
      "/tmp/ipykernel_1871420/123775812.py:6: FutureWarning: \n",
      "\n",
      "Passing `palette` without assigning `hue` is deprecated and will be removed in v0.14.0. Assign the `x` variable to `hue` and set `legend=False` for the same effect.\n",
      "\n",
      "  sns.barplot(x='optimizer', y='accuracy', data=optimiser_comparison_accuracies, palette='viridis')\n"
     ]
    },
    {
     "data": {
      "text/plain": [
       "<Figure size 600x600 with 1 Axes>"
      ],
      "image/png": "[encoded data removed]"
     },
     "metadata": {},
     "output_type": "display_data"
    }
   ],
   "execution_count": 18
  },
  {
   "metadata": {
    "ExecuteTime": {
     "end_time": "2024-10-03T10:48:04.507386Z",
     "start_time": "2024-10-03T10:48:04.505962Z"
    }
   },
   "cell_type": "code",
   "source": "",
   "id": "8263acfbb97d6364",
   "outputs": [],
   "execution_count": 18
  }
 ],
 "metadata": {
  "kernelspec": {
   "display_name": "Python 3",
   "language": "python",
   "name": "python3"
  },
  "language_info": {
   "codemirror_mode": {
    "name": "ipython",
    "version": 2
   },
   "file_extension": ".py",
   "mimetype": "text/x-python",
   "name": "python",
   "nbconvert_exporter": "python",
   "pygments_lexer": "ipython2",
   "version": "2.7.6"
  }
 },
 "nbformat": 4,
 "nbformat_minor": 5
}
